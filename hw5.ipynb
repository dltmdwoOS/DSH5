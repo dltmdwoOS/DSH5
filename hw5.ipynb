{
 "cells": [
  {
   "cell_type": "markdown",
   "metadata": {},
   "source": [
    "## Q1"
   ]
  },
  {
   "cell_type": "code",
   "execution_count": 1,
   "metadata": {},
   "outputs": [],
   "source": [
    "class Node():\n",
    "    def __init__(self, e):\n",
    "        self.elem = e\n",
    "        self.left = None\n",
    "        self.right = None"
   ]
  },
  {
   "cell_type": "code",
   "execution_count": 5,
   "metadata": {},
   "outputs": [],
   "source": [
    "class Queue():\n",
    "    def __init__(self):\n",
    "        self.f = None\n",
    "        self.r = None\n",
    "\n",
    "    def isEmpty(self):\n",
    "        return self.f == None\n",
    "    \n",
    "    def enQ(self, e):\n",
    "        if self.isEmpty():\n",
    "            self.f = self.r = Node(e)\n",
    "        else:\n",
    "            new_node = Node(e)\n",
    "            self.r.left = new_node\n",
    "            self.r = self.r.left\n",
    "\n",
    "    def deQ(self):\n",
    "        e = self.f.elem\n",
    "        self.f = self.f.left\n",
    "        if self.isEmpty():\n",
    "            self.r == None\n",
    "        return e"
   ]
  },
  {
   "cell_type": "code",
   "execution_count": 8,
   "metadata": {},
   "outputs": [],
   "source": [
    "class BinaryTree():\n",
    "    def __init__(self):\n",
    "        self.root = None\n",
    "    \n",
    "    def construct_tree(self):\n",
    "        self.root = Node(4)\n",
    "        self.root.left = Node(2)\n",
    "        self.root.right = Node(6)\n",
    "        self.root.left.left = Node(1)\n",
    "        self.root.left.right = Node(3)\n",
    "        self.root.right.left = Node(5)\n",
    "        self.root.right.right = Node(7)"
   ]
  },
  {
   "cell_type": "code",
   "execution_count": 13,
   "metadata": {},
   "outputs": [],
   "source": [
    "def level_order(v):\n",
    "    Q = Queue()\n",
    "    Q.enQ(v)\n",
    "    while(not Q.isEmpty()):\n",
    "        v = Q.deQ()\n",
    "        if v.left != None:\n",
    "            Q.enQ(v.left)\n",
    "        if v.left != None:\n",
    "            Q.enQ(v.right)\n",
    "        print(v.elem)"
   ]
  },
  {
   "cell_type": "code",
   "execution_count": 14,
   "metadata": {},
   "outputs": [],
   "source": [
    "newTree = BinaryTree()\n",
    "newTree.construct_tree()"
   ]
  },
  {
   "cell_type": "code",
   "execution_count": 15,
   "metadata": {},
   "outputs": [
    {
     "name": "stdout",
     "output_type": "stream",
     "text": [
      "4\n",
      "2\n",
      "6\n",
      "1\n",
      "3\n",
      "5\n",
      "7\n"
     ]
    }
   ],
   "source": [
    "level_order(newTree.root)"
   ]
  },
  {
   "cell_type": "markdown",
   "metadata": {},
   "source": [
    "## Q2"
   ]
  },
  {
   "cell_type": "code",
   "execution_count": 18,
   "metadata": {},
   "outputs": [],
   "source": [
    "def pre_order(v):\n",
    "    if v:\n",
    "        print(v.elem)\n",
    "        if v.left != None:\n",
    "            pre_order(v.left)\n",
    "        if v.right != None:\n",
    "            pre_order(v.right)\n",
    "\n",
    "def in_order(v):\n",
    "    if v:\n",
    "        if v.left != None:\n",
    "            in_order(v.left)\n",
    "        print(v.elem)\n",
    "        if v.right != None:\n",
    "            in_order(v.right)\n",
    "\n",
    "def post_order(v):\n",
    "    if v:\n",
    "        if v.left != None:\n",
    "            post_order(v.left)\n",
    "        if v.right != None:\n",
    "            post_order(v.right)\n",
    "        print(v.elem)"
   ]
  },
  {
   "cell_type": "code",
   "execution_count": 19,
   "metadata": {},
   "outputs": [
    {
     "name": "stdout",
     "output_type": "stream",
     "text": [
      "==== PreOrder ====\n",
      "4\n",
      "2\n",
      "1\n",
      "3\n",
      "6\n",
      "5\n",
      "7\n",
      "==== InOrder ====\n",
      "1\n",
      "2\n",
      "3\n",
      "4\n",
      "5\n",
      "6\n",
      "7\n",
      "==== PostOrder ====\n",
      "1\n",
      "3\n",
      "2\n",
      "5\n",
      "7\n",
      "6\n",
      "4\n"
     ]
    }
   ],
   "source": [
    "print(\"==== PreOrder ====\")\n",
    "pre_order(newTree.root)\n",
    "print(\"==== InOrder ====\")\n",
    "in_order(newTree.root)\n",
    "print(\"==== PostOrder ====\")\n",
    "post_order(newTree.root)"
   ]
  },
  {
   "cell_type": "markdown",
   "metadata": {},
   "source": [
    "## Q3"
   ]
  },
  {
   "cell_type": "code",
   "execution_count": 21,
   "metadata": {},
   "outputs": [],
   "source": [
    "def height(v):\n",
    "    if v.left == None:\n",
    "        return 0\n",
    "    h = 1 + max(height(v.left), height(v.right))\n",
    "    return h\n",
    "\n",
    "def Balanced(v):\n",
    "    if v.left == None:\n",
    "        return True\n",
    "    hLeft = height(v.left)\n",
    "    hRight = height(v.right)\n",
    "    return abs(hLeft - hRight) <= 1 and Balanced(v.left) and Balanced(v.right)"
   ]
  },
  {
   "cell_type": "code",
   "execution_count": 27,
   "metadata": {},
   "outputs": [],
   "source": [
    "balancedTree = BinaryTree()\n",
    "unBalancedTree = BinaryTree()\n",
    "\n",
    "balancedTree.root = Node(1)\n",
    "balancedTree.root.left = Node(1)\n",
    "balancedTree.root.right = Node(1)\n",
    "balancedTree.root.left.left = Node(1)\n",
    "balancedTree.root.left.right = Node(1)\n",
    "balancedTree.root.right.left = Node(1)\n",
    "balancedTree.root.right.right = Node(1)\n",
    "\n",
    "unBalancedTree.root = Node(1)\n",
    "unBalancedTree.root.left = Node(1)\n",
    "unBalancedTree.root.right = Node(1)\n",
    "unBalancedTree.root.left.left = Node(1)\n",
    "unBalancedTree.root.left.left.left = Node(1)\n",
    "unBalancedTree.root.left.left.right = Node(1)\n",
    "unBalancedTree.root.left.right = Node(1)"
   ]
  },
  {
   "cell_type": "code",
   "execution_count": 28,
   "metadata": {},
   "outputs": [
    {
     "name": "stdout",
     "output_type": "stream",
     "text": [
      "True\n",
      "False\n",
      "True\n"
     ]
    }
   ],
   "source": [
    "print(Balanced(balancedTree.root))\n",
    "print(Balanced(unBalancedTree.root))\n",
    "print(Balanced(unBalancedTree.root.left))"
   ]
  }
 ],
 "metadata": {
  "kernelspec": {
   "display_name": "py311",
   "language": "python",
   "name": "python3"
  },
  "language_info": {
   "codemirror_mode": {
    "name": "ipython",
    "version": 3
   },
   "file_extension": ".py",
   "mimetype": "text/x-python",
   "name": "python",
   "nbconvert_exporter": "python",
   "pygments_lexer": "ipython3",
   "version": "3.11.8"
  }
 },
 "nbformat": 4,
 "nbformat_minor": 2
}
